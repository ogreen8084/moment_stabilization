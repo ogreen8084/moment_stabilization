{
 "cells": [
  {
   "cell_type": "markdown",
   "metadata": {
    "deletable": true,
    "editable": true
   },
   "source": [
    "This is a two hidden layer GAN with \"moment stabilization\" based off of the \"Intro to GANs\" Lesson from the Udacity Deep Learning Foundations Nanodegree: https://github.com/udacity/deep-learning/blob/master/gan_mnist/Intro_to_GANs_Solution.ipynb \n"
   ]
  },
  {
   "cell_type": "code",
   "execution_count": 1,
   "metadata": {
    "collapsed": true,
    "deletable": true,
    "editable": true
   },
   "outputs": [],
   "source": [
    "%matplotlib inline\n",
    "import pickle as pkl\n",
    "import numpy as np\n",
    "import tensorflow as tf\n",
    "import matplotlib.pyplot as plt"
   ]
  },
  {
   "cell_type": "code",
   "execution_count": 2,
   "metadata": {
    "collapsed": false,
    "deletable": true,
    "editable": true
   },
   "outputs": [
    {
     "name": "stdout",
     "output_type": "stream",
     "text": [
      "Extracting MNIST_data/train-images-idx3-ubyte.gz\n",
      "Extracting MNIST_data/train-labels-idx1-ubyte.gz\n",
      "Extracting MNIST_data/t10k-images-idx3-ubyte.gz\n",
      "Extracting MNIST_data/t10k-labels-idx1-ubyte.gz\n"
     ]
    }
   ],
   "source": [
    "from tensorflow.examples.tutorials.mnist import input_data\n",
    "mnist = input_data.read_data_sets('MNIST_data')"
   ]
  },
  {
   "cell_type": "code",
   "execution_count": 3,
   "metadata": {
    "collapsed": false,
    "deletable": true,
    "editable": true,
    "scrolled": false
   },
   "outputs": [],
   "source": [
    "def model_inputs(real_dim, z_dim):\n",
    "    inputs_real = tf.placeholder(tf.float32, (None, real_dim), name='input_real') \n",
    "    inputs_z = tf.placeholder(tf.float32, (None, z_dim), name='input_z')\n",
    "    \n",
    "    return inputs_real, inputs_z"
   ]
  },
  {
   "cell_type": "code",
   "execution_count": 4,
   "metadata": {
    "collapsed": false,
    "deletable": true,
    "editable": true
   },
   "outputs": [],
   "source": [
    "def generator(z, out_dim, n_units=128, reuse=False,  alpha=0.01):\n",
    "    with tf.variable_scope('generator', reuse=reuse):\n",
    "        # Hidden layer\n",
    "        h1 = tf.layers.dense(z, n_units,kernel_initializer=tf.contrib.layers.xavier_initializer(),  activation=None) \n",
    "        # Leaky ReLU\n",
    "        h1 = tf.maximum(alpha*h1, h1)\n",
    "        h2 = tf.layers.dense(h1, n_units * 3, kernel_initializer=tf.contrib.layers.xavier_initializer(), activation=None)\n",
    "        h2 = tf.maximum(alpha*h2, h2)\n",
    "        # Logits and tanh output\n",
    "        logits = tf.layers.dense(h2, out_dim, kernel_initializer=tf.contrib.layers.xavier_initializer(), activation=None)\n",
    "        out = tf.nn.tanh(logits)\n",
    "        \n",
    "        return out, logits"
   ]
  },
  {
   "cell_type": "code",
   "execution_count": 5,
   "metadata": {
    "collapsed": false,
    "deletable": true,
    "editable": true
   },
   "outputs": [],
   "source": [
    "def discriminator(x, n_units=128, reuse=False, alpha=0.01):\n",
    "    with tf.variable_scope('discriminator', reuse=reuse):\n",
    "        # Hidden layer\n",
    "        h1 = tf.layers.dense(x, n_units, activation=None)\n",
    "        # Leaky ReLU\n",
    "        h1 = tf.maximum(alpha * h1, h1)\n",
    "        logits = tf.layers.dense(h1, 1, activation=None)\n",
    "        out = tf.sigmoid(logits)\n",
    "        \n",
    "        return out, logits"
   ]
  },
  {
   "cell_type": "markdown",
   "metadata": {
    "deletable": true,
    "editable": true
   },
   "source": [
    "<h2>Hyperparameters</h2>"
   ]
  },
  {
   "cell_type": "code",
   "execution_count": 6,
   "metadata": {
    "collapsed": false,
    "deletable": true,
    "editable": true
   },
   "outputs": [],
   "source": [
    "input_size = 784\n",
    "z_size = 100\n",
    "alpha = 0.01\n",
    "smooth = 0.1"
   ]
  },
  {
   "cell_type": "code",
   "execution_count": 7,
   "metadata": {
    "collapsed": false,
    "deletable": true,
    "editable": true
   },
   "outputs": [],
   "source": [
    "tf.reset_default_graph()\n",
    "input_real, input_z = model_inputs(input_size, z_size)\n",
    "\n",
    "g_model, g_logits = generator(input_z, input_size)\n",
    "d_model_real, d_logits_real = discriminator(input_real)\n",
    "d_model_fake, d_logits_fake = discriminator(g_model, reuse=True)\n"
   ]
  },
  {
   "cell_type": "markdown",
   "metadata": {
    "deletable": true,
    "editable": true
   },
   "source": [
    "<h2>Moments</h2>\n",
    "We multiply the moments by 0.1 to keep them roughly in line with the original generator loss."
   ]
  },
  {
   "cell_type": "code",
   "execution_count": 8,
   "metadata": {
    "collapsed": false,
    "deletable": true,
    "editable": true
   },
   "outputs": [],
   "source": [
    "g_mean, g_var = tf.nn.moments(g_model, axes=[0])\n",
    "d_mean, d_var = tf.nn.moments(input_real, axes=[0])\n",
    "\n",
    "mean_diff = 0.1 * tf.reduce_sum(tf.abs(g_mean - d_mean))\n",
    "std_diff = 0.1 * tf.reduce_sum(tf.abs(g_var - d_var))"
   ]
  },
  {
   "cell_type": "markdown",
   "metadata": {
    "deletable": true,
    "editable": true
   },
   "source": [
    "<h2>Modified Loss Function</h2>"
   ]
  },
  {
   "cell_type": "code",
   "execution_count": 9,
   "metadata": {
    "collapsed": false,
    "deletable": true,
    "editable": true
   },
   "outputs": [],
   "source": [
    "d_loss_real = tf.reduce_mean(\n",
    "                  tf.nn.sigmoid_cross_entropy_with_logits(logits=d_logits_real, \n",
    "                                                          labels=tf.ones_like(d_logits_real) * (1 - smooth)))\n",
    "d_loss_fake = tf.reduce_mean(\n",
    "                  tf.nn.sigmoid_cross_entropy_with_logits(logits=d_logits_fake, \n",
    "                                                          labels=tf.zeros_like(d_logits_real)))\n",
    "d_loss = d_loss_real + d_loss_fake\n",
    "\n",
    "g_loss = tf.reduce_mean(\n",
    "             tf.nn.sigmoid_cross_entropy_with_logits(logits=d_logits_fake,\n",
    "                                                     labels=tf.ones_like(d_logits_fake))) + (std_diff + mean_diff)\n",
    "g_loss_ = g_loss - (std_diff + mean_diff) #for visualization purposes"
   ]
  },
  {
   "cell_type": "code",
   "execution_count": 10,
   "metadata": {
    "collapsed": false,
    "deletable": true,
    "editable": true,
    "scrolled": false
   },
   "outputs": [],
   "source": [
    "t_vars = tf.trainable_variables()\n",
    "g_vars = [var for var in t_vars if var.name.startswith('generator')]\n",
    "d_vars = [var for var in t_vars if var.name.startswith('discriminator')]\n",
    "\n",
    "d_train_opt = tf.train.AdamOptimizer().minimize(d_loss, var_list=d_vars)\n",
    "g_train_opt = tf.train.AdamOptimizer().minimize(g_loss, var_list=g_vars)"
   ]
  },
  {
   "cell_type": "code",
   "execution_count": 11,
   "metadata": {
    "collapsed": false,
    "deletable": true,
    "editable": true
   },
   "outputs": [
    {
     "name": "stdout",
     "output_type": "stream",
     "text": [
      "mkdir: checkpoints: File exists\r\n"
     ]
    }
   ],
   "source": [
    "!mkdir checkpoints"
   ]
  },
  {
   "cell_type": "code",
   "execution_count": 12,
   "metadata": {
    "collapsed": false,
    "deletable": true,
    "editable": true,
    "scrolled": false
   },
   "outputs": [
    {
     "name": "stdout",
     "output_type": "stream",
     "text": [
      "Epoch 1/100... Discriminator Loss: 0.5671... Generator Loss: 3.1524\n",
      "Std_diff: 6.36935 Mean_diff: 7.84126\n",
      "Epoch 2/100... Discriminator Loss: 0.4570... Generator Loss: 2.9926\n",
      "Std_diff: 2.66486 Mean_diff: 2.89482\n",
      "Epoch 3/100... Discriminator Loss: 0.4210... Generator Loss: 3.5563\n",
      "Std_diff: 2.89109 Mean_diff: 3.31013\n",
      "Epoch 4/100... Discriminator Loss: 0.4620... Generator Loss: 3.6152\n",
      "Std_diff: 3.45552 Mean_diff: 3.1\n",
      "Epoch 5/100... Discriminator Loss: 0.5663... Generator Loss: 2.9650\n",
      "Std_diff: 3.27375 Mean_diff: 3.12068\n",
      "Epoch 6/100... Discriminator Loss: 0.6169... Generator Loss: 3.1423\n",
      "Std_diff: 2.98148 Mean_diff: 3.77631\n",
      "Epoch 7/100... Discriminator Loss: 0.6712... Generator Loss: 2.8491\n",
      "Std_diff: 2.85788 Mean_diff: 3.16504\n",
      "Epoch 8/100... Discriminator Loss: 0.7656... Generator Loss: 2.3077\n",
      "Std_diff: 2.43183 Mean_diff: 3.48441\n",
      "Epoch 9/100... Discriminator Loss: 0.8060... Generator Loss: 2.6127\n",
      "Std_diff: 2.83705 Mean_diff: 3.44144\n",
      "Epoch 10/100... Discriminator Loss: 0.8769... Generator Loss: 1.6435\n",
      "Std_diff: 3.03491 Mean_diff: 3.33131\n",
      "Epoch 11/100... Discriminator Loss: 0.8686... Generator Loss: 2.1358\n",
      "Std_diff: 2.98253 Mean_diff: 3.08847\n",
      "Epoch 12/100... Discriminator Loss: 0.9205... Generator Loss: 2.1768\n",
      "Std_diff: 2.91096 Mean_diff: 3.30119\n",
      "Epoch 13/100... Discriminator Loss: 1.0486... Generator Loss: 1.9250\n",
      "Std_diff: 2.90825 Mean_diff: 3.70381\n",
      "Epoch 14/100... Discriminator Loss: 0.9238... Generator Loss: 1.6489\n",
      "Std_diff: 3.34956 Mean_diff: 3.57168\n",
      "Epoch 15/100... Discriminator Loss: 0.9097... Generator Loss: 1.6415\n",
      "Std_diff: 3.37501 Mean_diff: 3.98493\n",
      "Epoch 16/100... Discriminator Loss: 0.9688... Generator Loss: 1.6861\n",
      "Std_diff: 3.02782 Mean_diff: 3.191\n",
      "Epoch 17/100... Discriminator Loss: 0.9692... Generator Loss: 1.6720\n",
      "Std_diff: 2.80797 Mean_diff: 3.28542\n",
      "Epoch 18/100... Discriminator Loss: 1.0435... Generator Loss: 1.6462\n",
      "Std_diff: 2.85994 Mean_diff: 3.33346\n",
      "Epoch 19/100... Discriminator Loss: 1.0057... Generator Loss: 1.6283\n",
      "Std_diff: 2.94499 Mean_diff: 4.11862\n",
      "Epoch 20/100... Discriminator Loss: 1.0244... Generator Loss: 1.5670\n",
      "Std_diff: 3.04044 Mean_diff: 3.44394\n",
      "Epoch 21/100... Discriminator Loss: 1.0164... Generator Loss: 1.4453\n",
      "Std_diff: 2.58676 Mean_diff: 3.11075\n",
      "Epoch 22/100... Discriminator Loss: 1.0422... Generator Loss: 1.3914\n",
      "Std_diff: 2.87383 Mean_diff: 3.26089\n",
      "Epoch 23/100... Discriminator Loss: 1.0320... Generator Loss: 1.6393\n",
      "Std_diff: 2.9535 Mean_diff: 3.42083\n",
      "Epoch 24/100... Discriminator Loss: 1.0947... Generator Loss: 1.2235\n",
      "Std_diff: 2.9291 Mean_diff: 2.88896\n",
      "Epoch 25/100... Discriminator Loss: 0.9996... Generator Loss: 1.5636\n",
      "Std_diff: 3.23339 Mean_diff: 4.28374\n",
      "Epoch 26/100... Discriminator Loss: 1.0017... Generator Loss: 1.4054\n",
      "Std_diff: 2.876 Mean_diff: 3.47969\n",
      "Epoch 27/100... Discriminator Loss: 1.1952... Generator Loss: 1.5784\n",
      "Std_diff: 3.73563 Mean_diff: 4.21695\n",
      "Epoch 28/100... Discriminator Loss: 1.1095... Generator Loss: 1.2164\n",
      "Std_diff: 3.03685 Mean_diff: 3.11244\n",
      "Epoch 29/100... Discriminator Loss: 1.2110... Generator Loss: 1.3575\n",
      "Std_diff: 3.36984 Mean_diff: 3.82537\n",
      "Epoch 30/100... Discriminator Loss: 1.1475... Generator Loss: 1.3128\n",
      "Std_diff: 2.87481 Mean_diff: 3.26081\n",
      "Epoch 31/100... Discriminator Loss: 1.0039... Generator Loss: 1.4561\n",
      "Std_diff: 3.00612 Mean_diff: 3.39983\n",
      "Epoch 32/100... Discriminator Loss: 1.1781... Generator Loss: 1.0327\n",
      "Std_diff: 3.08836 Mean_diff: 3.12458\n",
      "Epoch 33/100... Discriminator Loss: 1.1356... Generator Loss: 1.5823\n",
      "Std_diff: 2.67741 Mean_diff: 3.07917\n",
      "Epoch 34/100... Discriminator Loss: 1.1239... Generator Loss: 1.4156\n",
      "Std_diff: 2.82851 Mean_diff: 3.55723\n",
      "Epoch 35/100... Discriminator Loss: 1.1538... Generator Loss: 1.1452\n",
      "Std_diff: 3.46713 Mean_diff: 4.32576\n",
      "Epoch 36/100... Discriminator Loss: 1.1136... Generator Loss: 1.2661\n",
      "Std_diff: 2.82296 Mean_diff: 3.18612\n",
      "Epoch 37/100... Discriminator Loss: 1.0998... Generator Loss: 1.5470\n",
      "Std_diff: 2.85256 Mean_diff: 3.45656\n",
      "Epoch 38/100... Discriminator Loss: 1.0915... Generator Loss: 1.2424\n",
      "Std_diff: 2.63247 Mean_diff: 2.58647\n",
      "Epoch 39/100... Discriminator Loss: 1.0989... Generator Loss: 1.3730\n",
      "Std_diff: 3.28778 Mean_diff: 3.46241\n",
      "Epoch 40/100... Discriminator Loss: 1.1097... Generator Loss: 1.1957\n",
      "Std_diff: 3.19493 Mean_diff: 3.27584\n",
      "Epoch 41/100... Discriminator Loss: 1.1416... Generator Loss: 1.2798\n",
      "Std_diff: 3.0292 Mean_diff: 3.35708\n",
      "Epoch 42/100... Discriminator Loss: 1.2232... Generator Loss: 1.2304\n",
      "Std_diff: 2.9647 Mean_diff: 3.67723\n",
      "Epoch 43/100... Discriminator Loss: 1.1150... Generator Loss: 1.2341\n",
      "Std_diff: 2.99711 Mean_diff: 3.15962\n",
      "Epoch 44/100... Discriminator Loss: 1.0910... Generator Loss: 1.3286\n",
      "Std_diff: 2.40235 Mean_diff: 3.37192\n",
      "Epoch 45/100... Discriminator Loss: 1.1886... Generator Loss: 1.1604\n",
      "Std_diff: 3.5496 Mean_diff: 3.60223\n",
      "Epoch 46/100... Discriminator Loss: 1.1715... Generator Loss: 1.1884\n",
      "Std_diff: 3.33529 Mean_diff: 4.07832\n",
      "Epoch 47/100... Discriminator Loss: 1.0656... Generator Loss: 1.2240\n",
      "Std_diff: 2.53845 Mean_diff: 2.23269\n",
      "Epoch 48/100... Discriminator Loss: 1.1747... Generator Loss: 1.3483\n",
      "Std_diff: 2.74755 Mean_diff: 2.76076\n",
      "Epoch 49/100... Discriminator Loss: 1.1881... Generator Loss: 1.1441\n",
      "Std_diff: 3.42497 Mean_diff: 3.75695\n",
      "Epoch 50/100... Discriminator Loss: 1.1852... Generator Loss: 1.1120\n",
      "Std_diff: 3.17746 Mean_diff: 3.37411\n",
      "Epoch 51/100... Discriminator Loss: 1.1352... Generator Loss: 1.1783\n",
      "Std_diff: 2.79424 Mean_diff: 2.86755\n",
      "Epoch 52/100... Discriminator Loss: 1.1220... Generator Loss: 1.1694\n",
      "Std_diff: 2.67946 Mean_diff: 3.01705\n",
      "Epoch 53/100... Discriminator Loss: 1.1919... Generator Loss: 1.2577\n",
      "Std_diff: 3.10506 Mean_diff: 3.52529\n",
      "Epoch 54/100... Discriminator Loss: 1.1672... Generator Loss: 1.0407\n",
      "Std_diff: 2.6547 Mean_diff: 3.20737\n",
      "Epoch 55/100... Discriminator Loss: 1.1868... Generator Loss: 1.1024\n",
      "Std_diff: 3.46864 Mean_diff: 4.21566\n",
      "Epoch 56/100... Discriminator Loss: 1.2112... Generator Loss: 1.1390\n",
      "Std_diff: 2.76629 Mean_diff: 3.37499\n",
      "Epoch 57/100... Discriminator Loss: 1.2243... Generator Loss: 1.2090\n",
      "Std_diff: 3.12229 Mean_diff: 3.75635\n",
      "Epoch 58/100... Discriminator Loss: 1.1591... Generator Loss: 1.1371\n",
      "Std_diff: 3.02995 Mean_diff: 3.38988\n",
      "Epoch 59/100... Discriminator Loss: 1.1895... Generator Loss: 1.1812\n",
      "Std_diff: 2.54102 Mean_diff: 3.26914\n",
      "Epoch 60/100... Discriminator Loss: 1.1821... Generator Loss: 1.2152\n",
      "Std_diff: 3.35269 Mean_diff: 4.09466\n",
      "Epoch 61/100... Discriminator Loss: 1.1535... Generator Loss: 1.1453\n",
      "Std_diff: 2.91683 Mean_diff: 3.17158\n",
      "Epoch 62/100... Discriminator Loss: 1.2337... Generator Loss: 1.0993\n",
      "Std_diff: 3.5149 Mean_diff: 3.90517\n",
      "Epoch 63/100... Discriminator Loss: 1.1156... Generator Loss: 1.1956\n",
      "Std_diff: 2.92725 Mean_diff: 3.53211\n",
      "Epoch 64/100... Discriminator Loss: 1.1261... Generator Loss: 1.3087\n",
      "Std_diff: 3.20574 Mean_diff: 3.82243\n",
      "Epoch 65/100... Discriminator Loss: 1.0711... Generator Loss: 1.3403\n",
      "Std_diff: 2.90063 Mean_diff: 3.05504\n",
      "Epoch 66/100... Discriminator Loss: 1.2007... Generator Loss: 1.1806\n",
      "Std_diff: 2.70547 Mean_diff: 3.30837\n",
      "Epoch 67/100... Discriminator Loss: 1.1469... Generator Loss: 1.1388\n",
      "Std_diff: 3.85565 Mean_diff: 4.38937\n",
      "Epoch 68/100... Discriminator Loss: 1.1362... Generator Loss: 1.2998\n",
      "Std_diff: 2.77988 Mean_diff: 3.10383\n",
      "Epoch 69/100... Discriminator Loss: 1.1918... Generator Loss: 1.2398\n",
      "Std_diff: 3.07058 Mean_diff: 3.23056\n",
      "Epoch 70/100... Discriminator Loss: 1.2566... Generator Loss: 1.0467\n",
      "Std_diff: 2.7765 Mean_diff: 3.20304\n",
      "Epoch 71/100... Discriminator Loss: 1.1573... Generator Loss: 1.2945\n",
      "Std_diff: 2.98083 Mean_diff: 3.13741\n",
      "Epoch 72/100... Discriminator Loss: 1.1206... Generator Loss: 1.2422\n",
      "Std_diff: 2.68103 Mean_diff: 3.20679\n",
      "Epoch 73/100... Discriminator Loss: 1.3303... Generator Loss: 0.8815\n",
      "Std_diff: 3.23785 Mean_diff: 3.62635\n",
      "Epoch 74/100... Discriminator Loss: 1.2214... Generator Loss: 1.0469\n",
      "Std_diff: 2.65204 Mean_diff: 3.34283\n",
      "Epoch 75/100... Discriminator Loss: 1.1416... Generator Loss: 1.0769\n",
      "Std_diff: 2.735 Mean_diff: 3.21822\n",
      "Epoch 76/100... Discriminator Loss: 1.1331... Generator Loss: 1.2016\n",
      "Std_diff: 3.27288 Mean_diff: 3.45052\n",
      "Epoch 77/100... Discriminator Loss: 1.1438... Generator Loss: 1.3352\n",
      "Std_diff: 3.35982 Mean_diff: 4.21047\n",
      "Epoch 78/100... Discriminator Loss: 1.1561... Generator Loss: 1.4062\n",
      "Std_diff: 2.88534 Mean_diff: 3.44069\n",
      "Epoch 79/100... Discriminator Loss: 1.1900... Generator Loss: 1.3062\n",
      "Std_diff: 2.68301 Mean_diff: 2.8925\n",
      "Epoch 80/100... Discriminator Loss: 1.1798... Generator Loss: 1.1207\n",
      "Std_diff: 3.55682 Mean_diff: 4.04065\n",
      "Epoch 81/100... Discriminator Loss: 1.2166... Generator Loss: 1.1123\n",
      "Std_diff: 3.07993 Mean_diff: 3.02375\n",
      "Epoch 82/100... Discriminator Loss: 1.2108... Generator Loss: 1.3737\n",
      "Std_diff: 2.74004 Mean_diff: 2.91868\n",
      "Epoch 83/100... Discriminator Loss: 1.1218... Generator Loss: 1.0981\n",
      "Std_diff: 2.83164 Mean_diff: 3.25113\n",
      "Epoch 84/100... Discriminator Loss: 1.1926... Generator Loss: 1.1725\n",
      "Std_diff: 2.82032 Mean_diff: 3.05127\n",
      "Epoch 85/100... Discriminator Loss: 1.1803... Generator Loss: 1.1531\n",
      "Std_diff: 2.64807 Mean_diff: 3.33784\n",
      "Epoch 86/100... Discriminator Loss: 1.1327... Generator Loss: 1.3167\n",
      "Std_diff: 3.1478 Mean_diff: 3.69034\n",
      "Epoch 87/100... Discriminator Loss: 1.2326... Generator Loss: 1.2291\n",
      "Std_diff: 3.35112 Mean_diff: 3.89715\n",
      "Epoch 88/100... Discriminator Loss: 1.1553... Generator Loss: 1.3873\n",
      "Std_diff: 2.96559 Mean_diff: 3.13648\n",
      "Epoch 89/100... Discriminator Loss: 1.1828... Generator Loss: 1.1168\n",
      "Std_diff: 3.00667 Mean_diff: 3.6237\n",
      "Epoch 90/100... Discriminator Loss: 1.1077... Generator Loss: 1.2568\n",
      "Std_diff: 2.79506 Mean_diff: 3.52582\n",
      "Epoch 91/100... Discriminator Loss: 1.2507... Generator Loss: 1.1814\n",
      "Std_diff: 2.9112 Mean_diff: 3.06213\n",
      "Epoch 92/100... Discriminator Loss: 1.2914... Generator Loss: 1.2533\n",
      "Std_diff: 2.84815 Mean_diff: 2.8025\n",
      "Epoch 93/100... Discriminator Loss: 1.1779... Generator Loss: 1.3061\n",
      "Std_diff: 2.69322 Mean_diff: 2.89943\n",
      "Epoch 94/100... Discriminator Loss: 1.1879... Generator Loss: 1.0435\n",
      "Std_diff: 3.23434 Mean_diff: 3.14925\n",
      "Epoch 95/100... Discriminator Loss: 1.1583... Generator Loss: 1.1859\n",
      "Std_diff: 3.10007 Mean_diff: 3.48746\n",
      "Epoch 96/100... Discriminator Loss: 1.1524... Generator Loss: 1.2620\n",
      "Std_diff: 2.8815 Mean_diff: 3.06079\n",
      "Epoch 97/100... Discriminator Loss: 1.1637... Generator Loss: 1.3163\n",
      "Std_diff: 3.47624 Mean_diff: 3.4646\n",
      "Epoch 98/100... Discriminator Loss: 1.1205... Generator Loss: 1.4620\n",
      "Std_diff: 3.80481 Mean_diff: 3.85581\n",
      "Epoch 99/100... Discriminator Loss: 1.1364... Generator Loss: 1.2137\n",
      "Std_diff: 2.88842 Mean_diff: 3.49261\n",
      "Epoch 100/100... Discriminator Loss: 1.2200... Generator Loss: 1.2572\n",
      "Std_diff: 2.85077 Mean_diff: 3.42611\n"
     ]
    }
   ],
   "source": [
    "batch_size = 100\n",
    "epochs = 100\n",
    "samples = []\n",
    "losses = []\n",
    "saver = tf.train.Saver(var_list=g_vars)\n",
    "with tf.Session() as sess:\n",
    "    sess.run(tf.global_variables_initializer())\n",
    "    for e in range(epochs):\n",
    "        for ii in range(mnist.train.num_examples//batch_size):\n",
    "            batch = mnist.train.next_batch(batch_size)\n",
    "            \n",
    "            batch_images = batch[0].reshape((batch_size, 784))\n",
    "            batch_images = batch_images*2 - 1\n",
    "            \n",
    "            batch_z = np.random.uniform(-1, 1, size=(batch_size, z_size))          \n",
    "            _ = sess.run(d_train_opt, feed_dict={input_real: batch_images, input_z: batch_z})\n",
    "            _ = sess.run(g_train_opt, feed_dict={input_real: batch_images, input_z: batch_z})\n",
    "        \n",
    "        train_loss_g = g_loss_.eval({input_z: batch_z, input_real: batch_images})\n",
    "        train_loss_d = sess.run(d_loss, {input_z: batch_z, input_real: batch_images})\n",
    "            \n",
    "        print(\"Epoch {}/{}...\".format(e+1, epochs),\n",
    "              \"Discriminator Loss: {:.4f}...\".format(train_loss_d),\n",
    "              \"Generator Loss: {:.4f}\".format(train_loss_g)) \n",
    "        std_diff1 = std_diff.eval(session=sess, feed_dict={input_real: batch_images, input_z: batch_z})\n",
    "        mean_diff1 = mean_diff.eval(session=sess, feed_dict={input_real: batch_images, input_z: batch_z})\n",
    "        print('Std_diff: ' +str(std_diff1) + ' Mean_diff: ' +str(mean_diff1))\n",
    "        losses.append((train_loss_d, train_loss_g))\n",
    "        sample_z = np.random.uniform(-1, 1, size=(16, z_size))\n",
    "        gen_samples, _ = sess.run(\n",
    "                       generator(input_z, input_size, reuse=True),\n",
    "                       feed_dict={input_z: sample_z})\n",
    "        samples.append(gen_samples)\n",
    "        saver.save(sess, './checkpoints/generator.ckpt')\n",
    "\n",
    "with open('train_samples.pkl', 'wb') as f:\n",
    "    pkl.dump(samples, f)"
   ]
  },
  {
   "cell_type": "code",
   "execution_count": 13,
   "metadata": {
    "collapsed": false,
    "deletable": true,
    "editable": true
   },
   "outputs": [
    {
     "data": {
      "text/plain": [
       "<matplotlib.legend.Legend at 0x130833710>"
      ]
     },
     "execution_count": 13,
     "metadata": {},
     "output_type": "execute_result"
    },
    {
     "data": {
      "image/png": "[encoded data removed]",
      "text/plain": [
       "<matplotlib.figure.Figure at 0x138eeb668>"
      ]
     },
     "metadata": {},
     "output_type": "display_data"
    }
   ],
   "source": [
    "fig, ax = plt.subplots()\n",
    "losses = np.array(losses)\n",
    "plt.plot(losses.T[0], label='Discriminator')\n",
    "plt.plot(losses.T[1], label='Generator')\n",
    "plt.title(\"Training Losses\")\n",
    "plt.legend()"
   ]
  },
  {
   "cell_type": "code",
   "execution_count": 14,
   "metadata": {
    "collapsed": true,
    "deletable": true,
    "editable": true
   },
   "outputs": [],
   "source": [
    "# Load samples from generator taken while training\n",
    "with open('train_samples.pkl', 'rb') as f:\n",
    "    samples = pkl.load(f)"
   ]
  },
  {
   "cell_type": "code",
   "execution_count": 17,
   "metadata": {
    "collapsed": false,
    "deletable": true,
    "editable": true
   },
   "outputs": [
    {
     "data": {
      "image/png": "[encoded data removed]",
      "text/plain": [
       "<matplotlib.figure.Figure at 0x12fd14860>"
      ]
     },
     "metadata": {},
     "output_type": "display_data"
    }
   ],
   "source": [
    "rows, cols = 10, 6\n",
    "fig, axes = plt.subplots(figsize=(7,12), nrows=rows, ncols=cols, sharex=True, sharey=True)\n",
    "\n",
    "for sample, ax_row in zip(samples[::int(len(samples)/rows)], axes):\n",
    "    for img, ax in zip(sample[::int(len(sample)/cols)], ax_row):\n",
    "        ax.imshow(img.reshape((28,28)), cmap='Greys_r')\n",
    "        ax.xaxis.set_visible(False)\n",
    "        ax.yaxis.set_visible(False)"
   ]
  },
  {
   "cell_type": "code",
   "execution_count": null,
   "metadata": {
    "collapsed": true,
    "deletable": true,
    "editable": true
   },
   "outputs": [],
   "source": []
  }
 ],
 "metadata": {
  "kernelspec": {
   "display_name": "Python 3",
   "language": "python",
   "name": "python3"
  },
  "language_info": {
   "codemirror_mode": {
    "name": "ipython",
    "version": 3
   },
   "file_extension": ".py",
   "mimetype": "text/x-python",
   "name": "python",
   "nbconvert_exporter": "python",
   "pygments_lexer": "ipython3",
   "version": "3.5.1"
  }
 },
 "nbformat": 4,
 "nbformat_minor": 2
}
