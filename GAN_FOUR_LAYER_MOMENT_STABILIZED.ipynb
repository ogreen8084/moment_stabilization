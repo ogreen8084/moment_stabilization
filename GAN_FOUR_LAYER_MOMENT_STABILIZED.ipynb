{
 "cells": [
  {
   "cell_type": "markdown",
   "metadata": {
    "deletable": true,
    "editable": true
   },
   "source": [
    "This is a four hidden layer GAN with \"moment stabilization\" based off of the \"Intro to GANs\" Lesson from the Udacity Deep Learning Foundations Nanodegree: https://github.com/udacity/deep-learning/blob/master/gan_mnist/Intro_to_GANs_Solution.ipynb \n",
    "As we can see, the moment stabilization helps the model generate numeric figures. "
   ]
  },
  {
   "cell_type": "code",
   "execution_count": 1,
   "metadata": {
    "collapsed": true,
    "deletable": true,
    "editable": true
   },
   "outputs": [],
   "source": [
    "%matplotlib inline\n",
    "import pickle as pkl\n",
    "import numpy as np\n",
    "import tensorflow as tf\n",
    "import matplotlib.pyplot as plt"
   ]
  },
  {
   "cell_type": "code",
   "execution_count": 2,
   "metadata": {
    "collapsed": false,
    "deletable": true,
    "editable": true
   },
   "outputs": [
    {
     "name": "stdout",
     "output_type": "stream",
     "text": [
      "Extracting MNIST_data/train-images-idx3-ubyte.gz\n",
      "Extracting MNIST_data/train-labels-idx1-ubyte.gz\n",
      "Extracting MNIST_data/t10k-images-idx3-ubyte.gz\n",
      "Extracting MNIST_data/t10k-labels-idx1-ubyte.gz\n"
     ]
    }
   ],
   "source": [
    "from tensorflow.examples.tutorials.mnist import input_data\n",
    "mnist = input_data.read_data_sets('MNIST_data')"
   ]
  },
  {
   "cell_type": "code",
   "execution_count": 3,
   "metadata": {
    "collapsed": false,
    "deletable": true,
    "editable": true,
    "scrolled": false
   },
   "outputs": [],
   "source": [
    "def model_inputs(real_dim, z_dim):\n",
    "    inputs_real = tf.placeholder(tf.float32, (None, real_dim), name='input_real') \n",
    "    inputs_z = tf.placeholder(tf.float32, (None, z_dim), name='input_z')\n",
    "    \n",
    "    return inputs_real, inputs_z"
   ]
  },
  {
   "cell_type": "code",
   "execution_count": 4,
   "metadata": {
    "collapsed": false,
    "deletable": true,
    "editable": true
   },
   "outputs": [],
   "source": [
    "def generator(z, out_dim, n_units=128, reuse=False,  alpha=0.01):\n",
    "    with tf.variable_scope('generator', reuse=reuse):\n",
    "        h1 = tf.layers.dense(z, n_units,kernel_initializer=tf.contrib.layers.xavier_initializer(),  activation=None) \n",
    "        h1 = tf.maximum(alpha*h1, h1)\n",
    "        h2 = tf.layers.dense(h1, n_units * 2, kernel_initializer=tf.contrib.layers.xavier_initializer(), activation=None)\n",
    "        h2 = tf.maximum(alpha*h2, h2)\n",
    "        h3 = tf.layers.dense(h2, n_units * 3,kernel_initializer=tf.contrib.layers.xavier_initializer(), activation=None)\n",
    "        h3 = tf.maximum(alpha*h3, h3) \n",
    "        h4 = tf.layers.dense(h3, n_units * 4,kernel_initializer=tf.contrib.layers.xavier_initializer(), activation=None) \n",
    "        h4 = tf.maximum(alpha*h4, h4) \n",
    "        logits = tf.layers.dense(h3, out_dim, kernel_initializer=tf.contrib.layers.xavier_initializer(), activation=None)\n",
    "        out = tf.nn.tanh(logits)\n",
    "        \n",
    "        return out, logits"
   ]
  },
  {
   "cell_type": "code",
   "execution_count": 5,
   "metadata": {
    "collapsed": false,
    "deletable": true,
    "editable": true
   },
   "outputs": [],
   "source": [
    "def discriminator(x, n_units=128, reuse=False, alpha=0.01):\n",
    "    with tf.variable_scope('discriminator', reuse=reuse):\n",
    "        # Hidden layer\n",
    "        h1 = tf.layers.dense(x, n_units, activation=None)\n",
    "        # Leaky ReLU\n",
    "        h1 = tf.maximum(alpha * h1, h1)\n",
    "        logits = tf.layers.dense(h1, 1, activation=None)\n",
    "        out = tf.sigmoid(logits)\n",
    "        \n",
    "        return out, logits"
   ]
  },
  {
   "cell_type": "markdown",
   "metadata": {
    "deletable": true,
    "editable": true
   },
   "source": [
    "<h2>Hyperparameters</h2>"
   ]
  },
  {
   "cell_type": "code",
   "execution_count": 6,
   "metadata": {
    "collapsed": false,
    "deletable": true,
    "editable": true
   },
   "outputs": [],
   "source": [
    "input_size = 784\n",
    "z_size = 100\n",
    "alpha = 0.01\n",
    "smooth = 0.1"
   ]
  },
  {
   "cell_type": "code",
   "execution_count": 7,
   "metadata": {
    "collapsed": false,
    "deletable": true,
    "editable": true
   },
   "outputs": [],
   "source": [
    "tf.reset_default_graph()\n",
    "input_real, input_z = model_inputs(input_size, z_size)\n",
    "\n",
    "g_model, g_logits = generator(input_z, input_size)\n",
    "d_model_real, d_logits_real = discriminator(input_real)\n",
    "d_model_fake, d_logits_fake = discriminator(g_model, reuse=True)\n"
   ]
  },
  {
   "cell_type": "markdown",
   "metadata": {
    "deletable": true,
    "editable": true
   },
   "source": [
    "<h2>Moments</h2>\n",
    "We multiply the moments by 0.1 to keep them roughly in line with the original generator loss."
   ]
  },
  {
   "cell_type": "code",
   "execution_count": 8,
   "metadata": {
    "collapsed": false,
    "deletable": true,
    "editable": true
   },
   "outputs": [],
   "source": [
    "g_mean, g_var = tf.nn.moments(g_model, axes=[0])\n",
    "d_mean, d_var = tf.nn.moments(input_real, axes=[0])\n",
    "\n",
    "mean_diff = 0.1 * tf.reduce_sum(tf.abs(g_mean - d_mean))\n",
    "std_diff = 0.1 * tf.reduce_sum(tf.abs(g_var - d_var))"
   ]
  },
  {
   "cell_type": "markdown",
   "metadata": {
    "deletable": true,
    "editable": true
   },
   "source": [
    "<h2>Modified Loss Function</h2>"
   ]
  },
  {
   "cell_type": "code",
   "execution_count": 9,
   "metadata": {
    "collapsed": false,
    "deletable": true,
    "editable": true
   },
   "outputs": [],
   "source": [
    "d_loss_real = tf.reduce_mean(\n",
    "                  tf.nn.sigmoid_cross_entropy_with_logits(logits=d_logits_real, \n",
    "                                                          labels=tf.ones_like(d_logits_real) * (1 - smooth)))\n",
    "d_loss_fake = tf.reduce_mean(\n",
    "                  tf.nn.sigmoid_cross_entropy_with_logits(logits=d_logits_fake, \n",
    "                                                          labels=tf.zeros_like(d_logits_real)))\n",
    "d_loss = d_loss_real + d_loss_fake\n",
    "\n",
    "g_loss = tf.reduce_mean(\n",
    "             tf.nn.sigmoid_cross_entropy_with_logits(logits=d_logits_fake,\n",
    "                                                     labels=tf.ones_like(d_logits_fake))) + (std_diff + mean_diff)\n",
    "g_loss_ = g_loss - (std_diff + mean_diff) #for visualization purposes"
   ]
  },
  {
   "cell_type": "code",
   "execution_count": 10,
   "metadata": {
    "collapsed": false,
    "deletable": true,
    "editable": true,
    "scrolled": false
   },
   "outputs": [],
   "source": [
    "t_vars = tf.trainable_variables()\n",
    "g_vars = [var for var in t_vars if var.name.startswith('generator')]\n",
    "d_vars = [var for var in t_vars if var.name.startswith('discriminator')]\n",
    "\n",
    "d_train_opt = tf.train.AdamOptimizer().minimize(d_loss, var_list=d_vars)\n",
    "g_train_opt = tf.train.AdamOptimizer().minimize(g_loss, var_list=g_vars)"
   ]
  },
  {
   "cell_type": "code",
   "execution_count": 11,
   "metadata": {
    "collapsed": false,
    "deletable": true,
    "editable": true
   },
   "outputs": [
    {
     "name": "stdout",
     "output_type": "stream",
     "text": [
      "mkdir: checkpoints: File exists\r\n"
     ]
    }
   ],
   "source": [
    "!mkdir checkpoints"
   ]
  },
  {
   "cell_type": "code",
   "execution_count": 12,
   "metadata": {
    "collapsed": false,
    "deletable": true,
    "editable": true,
    "scrolled": false
   },
   "outputs": [
    {
     "name": "stdout",
     "output_type": "stream",
     "text": [
      "Epoch 1/100... Discriminator Loss: 0.5282... Generator Loss: 2.8832\n",
      "Std_diff: 6.61015 Mean_diff: 8.20366\n",
      "Epoch 2/100... Discriminator Loss: 0.4308... Generator Loss: 3.5059\n",
      "Std_diff: 4.85492 Mean_diff: 5.39951\n",
      "Epoch 3/100... Discriminator Loss: 0.4623... Generator Loss: 3.2308\n",
      "Std_diff: 3.18722 Mean_diff: 4.42304\n",
      "Epoch 4/100... Discriminator Loss: 0.4331... Generator Loss: 3.5968\n",
      "Std_diff: 3.11631 Mean_diff: 3.85615\n",
      "Epoch 5/100... Discriminator Loss: 0.5308... Generator Loss: 3.0866\n",
      "Std_diff: 3.01708 Mean_diff: 3.23427\n",
      "Epoch 6/100... Discriminator Loss: 0.6342... Generator Loss: 2.2065\n",
      "Std_diff: 3.24061 Mean_diff: 3.69774\n",
      "Epoch 7/100... Discriminator Loss: 0.7162... Generator Loss: 2.2526\n",
      "Std_diff: 3.26305 Mean_diff: 3.6662\n",
      "Epoch 8/100... Discriminator Loss: 0.7982... Generator Loss: 2.3135\n",
      "Std_diff: 3.11793 Mean_diff: 3.28315\n",
      "Epoch 9/100... Discriminator Loss: 0.9012... Generator Loss: 2.2556\n",
      "Std_diff: 3.46517 Mean_diff: 3.40221\n",
      "Epoch 10/100... Discriminator Loss: 0.8597... Generator Loss: 2.4674\n",
      "Std_diff: 3.15949 Mean_diff: 3.75587\n",
      "Epoch 11/100... Discriminator Loss: 0.9878... Generator Loss: 1.7085\n",
      "Std_diff: 2.93127 Mean_diff: 3.28106\n",
      "Epoch 12/100... Discriminator Loss: 0.8458... Generator Loss: 2.0184\n",
      "Std_diff: 2.76974 Mean_diff: 3.15235\n",
      "Epoch 13/100... Discriminator Loss: 0.9294... Generator Loss: 1.8918\n",
      "Std_diff: 3.02294 Mean_diff: 3.48512\n",
      "Epoch 14/100... Discriminator Loss: 0.9226... Generator Loss: 2.0360\n",
      "Std_diff: 3.31464 Mean_diff: 3.90791\n",
      "Epoch 15/100... Discriminator Loss: 0.8735... Generator Loss: 1.4989\n",
      "Std_diff: 2.93243 Mean_diff: 3.25706\n",
      "Epoch 16/100... Discriminator Loss: 0.9718... Generator Loss: 1.7264\n",
      "Std_diff: 3.03248 Mean_diff: 4.11387\n",
      "Epoch 17/100... Discriminator Loss: 0.8970... Generator Loss: 1.9339\n",
      "Std_diff: 2.96923 Mean_diff: 3.26227\n",
      "Epoch 18/100... Discriminator Loss: 0.9329... Generator Loss: 1.6868\n",
      "Std_diff: 3.44143 Mean_diff: 3.89466\n",
      "Epoch 19/100... Discriminator Loss: 1.0285... Generator Loss: 1.8716\n",
      "Std_diff: 2.90284 Mean_diff: 2.97407\n",
      "Epoch 20/100... Discriminator Loss: 1.0722... Generator Loss: 1.4466\n",
      "Std_diff: 2.90975 Mean_diff: 3.05844\n",
      "Epoch 21/100... Discriminator Loss: 0.9824... Generator Loss: 1.7305\n",
      "Std_diff: 2.68652 Mean_diff: 3.22118\n",
      "Epoch 22/100... Discriminator Loss: 0.9807... Generator Loss: 1.5686\n",
      "Std_diff: 3.29133 Mean_diff: 3.66359\n",
      "Epoch 23/100... Discriminator Loss: 1.0553... Generator Loss: 1.5780\n",
      "Std_diff: 2.91601 Mean_diff: 3.15185\n",
      "Epoch 24/100... Discriminator Loss: 1.0807... Generator Loss: 1.4452\n",
      "Std_diff: 3.02881 Mean_diff: 3.75193\n",
      "Epoch 25/100... Discriminator Loss: 1.0247... Generator Loss: 1.4978\n",
      "Std_diff: 3.3557 Mean_diff: 4.04108\n",
      "Epoch 26/100... Discriminator Loss: 1.0968... Generator Loss: 1.5778\n",
      "Std_diff: 3.05943 Mean_diff: 3.25117\n",
      "Epoch 27/100... Discriminator Loss: 1.0038... Generator Loss: 1.5670\n",
      "Std_diff: 2.64472 Mean_diff: 2.85179\n",
      "Epoch 28/100... Discriminator Loss: 1.0174... Generator Loss: 1.6869\n",
      "Std_diff: 3.21268 Mean_diff: 3.768\n",
      "Epoch 29/100... Discriminator Loss: 1.0415... Generator Loss: 1.4101\n",
      "Std_diff: 3.31302 Mean_diff: 3.96505\n",
      "Epoch 30/100... Discriminator Loss: 1.0390... Generator Loss: 1.7739\n",
      "Std_diff: 2.90595 Mean_diff: 2.98921\n",
      "Epoch 31/100... Discriminator Loss: 0.9920... Generator Loss: 1.6831\n",
      "Std_diff: 3.18133 Mean_diff: 3.52959\n",
      "Epoch 32/100... Discriminator Loss: 1.0860... Generator Loss: 1.4975\n",
      "Std_diff: 2.74395 Mean_diff: 3.03069\n",
      "Epoch 33/100... Discriminator Loss: 1.1356... Generator Loss: 1.5157\n",
      "Std_diff: 2.92634 Mean_diff: 3.65802\n",
      "Epoch 34/100... Discriminator Loss: 0.9664... Generator Loss: 1.5383\n",
      "Std_diff: 2.85746 Mean_diff: 2.97747\n",
      "Epoch 35/100... Discriminator Loss: 1.0660... Generator Loss: 1.6456\n",
      "Std_diff: 3.69197 Mean_diff: 4.42946\n",
      "Epoch 36/100... Discriminator Loss: 1.1240... Generator Loss: 1.4366\n",
      "Std_diff: 3.02184 Mean_diff: 3.51703\n",
      "Epoch 37/100... Discriminator Loss: 1.0192... Generator Loss: 1.4753\n",
      "Std_diff: 3.05354 Mean_diff: 3.3099\n",
      "Epoch 38/100... Discriminator Loss: 1.1873... Generator Loss: 1.2557\n",
      "Std_diff: 3.38877 Mean_diff: 4.09835\n",
      "Epoch 39/100... Discriminator Loss: 1.0350... Generator Loss: 1.3038\n",
      "Std_diff: 3.21647 Mean_diff: 3.41384\n",
      "Epoch 40/100... Discriminator Loss: 0.9881... Generator Loss: 1.3998\n",
      "Std_diff: 2.84027 Mean_diff: 3.08319\n",
      "Epoch 41/100... Discriminator Loss: 1.0804... Generator Loss: 1.4222\n",
      "Std_diff: 2.91859 Mean_diff: 3.40112\n",
      "Epoch 42/100... Discriminator Loss: 1.1241... Generator Loss: 1.3010\n",
      "Std_diff: 3.35437 Mean_diff: 3.63947\n",
      "Epoch 43/100... Discriminator Loss: 0.9724... Generator Loss: 1.4841\n",
      "Std_diff: 3.60164 Mean_diff: 4.31406\n",
      "Epoch 44/100... Discriminator Loss: 1.0553... Generator Loss: 1.7296\n",
      "Std_diff: 3.07548 Mean_diff: 3.30984\n",
      "Epoch 45/100... Discriminator Loss: 1.0533... Generator Loss: 1.4431\n",
      "Std_diff: 3.22273 Mean_diff: 4.23448\n",
      "Epoch 46/100... Discriminator Loss: 1.0772... Generator Loss: 1.5147\n",
      "Std_diff: 3.40291 Mean_diff: 3.72817\n",
      "Epoch 47/100... Discriminator Loss: 1.0344... Generator Loss: 1.3678\n",
      "Std_diff: 3.0723 Mean_diff: 3.32126\n",
      "Epoch 48/100... Discriminator Loss: 1.1132... Generator Loss: 1.4095\n",
      "Std_diff: 2.72067 Mean_diff: 2.96587\n",
      "Epoch 49/100... Discriminator Loss: 1.1683... Generator Loss: 1.4838\n",
      "Std_diff: 3.13269 Mean_diff: 3.32907\n",
      "Epoch 50/100... Discriminator Loss: 1.1387... Generator Loss: 1.3384\n",
      "Std_diff: 3.26352 Mean_diff: 3.41928\n",
      "Epoch 51/100... Discriminator Loss: 1.1260... Generator Loss: 1.4283\n",
      "Std_diff: 3.14398 Mean_diff: 3.53188\n",
      "Epoch 52/100... Discriminator Loss: 1.2024... Generator Loss: 1.4470\n",
      "Std_diff: 3.06555 Mean_diff: 3.38144\n",
      "Epoch 53/100... Discriminator Loss: 1.0416... Generator Loss: 1.3556\n",
      "Std_diff: 2.7357 Mean_diff: 3.16534\n",
      "Epoch 54/100... Discriminator Loss: 1.0628... Generator Loss: 1.2990\n",
      "Std_diff: 3.13791 Mean_diff: 3.74825\n",
      "Epoch 55/100... Discriminator Loss: 1.2284... Generator Loss: 1.0013\n",
      "Std_diff: 2.87107 Mean_diff: 3.42653\n",
      "Epoch 56/100... Discriminator Loss: 1.0880... Generator Loss: 1.3856\n",
      "Std_diff: 4.461 Mean_diff: 5.15362\n",
      "Epoch 57/100... Discriminator Loss: 1.1579... Generator Loss: 1.2414\n",
      "Std_diff: 2.96004 Mean_diff: 3.20342\n",
      "Epoch 58/100... Discriminator Loss: 1.0700... Generator Loss: 1.2433\n",
      "Std_diff: 2.8238 Mean_diff: 2.80182\n",
      "Epoch 59/100... Discriminator Loss: 1.0900... Generator Loss: 1.3570\n",
      "Std_diff: 3.17326 Mean_diff: 3.38455\n",
      "Epoch 60/100... Discriminator Loss: 1.1336... Generator Loss: 1.4188\n",
      "Std_diff: 2.77813 Mean_diff: 3.07748\n",
      "Epoch 61/100... Discriminator Loss: 1.1339... Generator Loss: 1.2200\n",
      "Std_diff: 3.20963 Mean_diff: 3.25315\n",
      "Epoch 62/100... Discriminator Loss: 1.1582... Generator Loss: 1.0962\n",
      "Std_diff: 3.24879 Mean_diff: 3.59462\n",
      "Epoch 63/100... Discriminator Loss: 1.1508... Generator Loss: 1.3207\n",
      "Std_diff: 3.26636 Mean_diff: 3.7197\n",
      "Epoch 64/100... Discriminator Loss: 1.1512... Generator Loss: 1.1674\n",
      "Std_diff: 3.09794 Mean_diff: 3.02246\n",
      "Epoch 65/100... Discriminator Loss: 1.1536... Generator Loss: 1.3137\n",
      "Std_diff: 2.81417 Mean_diff: 3.486\n",
      "Epoch 66/100... Discriminator Loss: 1.1669... Generator Loss: 1.1285\n",
      "Std_diff: 3.32287 Mean_diff: 3.65652\n",
      "Epoch 67/100... Discriminator Loss: 1.1930... Generator Loss: 1.2151\n",
      "Std_diff: 3.03935 Mean_diff: 3.44413\n",
      "Epoch 68/100... Discriminator Loss: 1.1237... Generator Loss: 1.1365\n",
      "Std_diff: 2.85232 Mean_diff: 3.16569\n",
      "Epoch 69/100... Discriminator Loss: 1.1603... Generator Loss: 1.1299\n",
      "Std_diff: 2.81959 Mean_diff: 2.98428\n",
      "Epoch 70/100... Discriminator Loss: 1.0931... Generator Loss: 1.3397\n",
      "Std_diff: 3.17855 Mean_diff: 3.78793\n",
      "Epoch 71/100... Discriminator Loss: 1.1919... Generator Loss: 1.1750\n",
      "Std_diff: 2.64992 Mean_diff: 3.11014\n",
      "Epoch 72/100... Discriminator Loss: 1.2003... Generator Loss: 1.1135\n",
      "Std_diff: 2.77178 Mean_diff: 3.07857\n",
      "Epoch 73/100... Discriminator Loss: 1.1613... Generator Loss: 1.1965\n",
      "Std_diff: 2.98594 Mean_diff: 3.50153\n",
      "Epoch 74/100... Discriminator Loss: 1.0739... Generator Loss: 1.2797\n",
      "Std_diff: 3.18526 Mean_diff: 3.91243\n",
      "Epoch 75/100... Discriminator Loss: 1.1236... Generator Loss: 1.3430\n",
      "Std_diff: 2.95688 Mean_diff: 3.30444\n",
      "Epoch 76/100... Discriminator Loss: 1.2151... Generator Loss: 1.1705\n",
      "Std_diff: 3.5635 Mean_diff: 3.79703\n",
      "Epoch 77/100... Discriminator Loss: 1.1054... Generator Loss: 1.3035\n",
      "Std_diff: 2.71103 Mean_diff: 3.10843\n",
      "Epoch 78/100... Discriminator Loss: 1.2010... Generator Loss: 1.4231\n",
      "Std_diff: 2.80277 Mean_diff: 3.18935\n",
      "Epoch 79/100... Discriminator Loss: 1.0823... Generator Loss: 1.2268\n",
      "Std_diff: 2.66374 Mean_diff: 2.931\n",
      "Epoch 80/100... Discriminator Loss: 1.2058... Generator Loss: 1.2842\n",
      "Std_diff: 3.10642 Mean_diff: 3.43055\n",
      "Epoch 81/100... Discriminator Loss: 1.1484... Generator Loss: 1.3515\n",
      "Std_diff: 3.23449 Mean_diff: 3.7454\n",
      "Epoch 82/100... Discriminator Loss: 1.2028... Generator Loss: 1.2908\n",
      "Std_diff: 2.89133 Mean_diff: 3.76641\n",
      "Epoch 83/100... Discriminator Loss: 1.1868... Generator Loss: 1.1448\n",
      "Std_diff: 2.90631 Mean_diff: 2.97401\n",
      "Epoch 84/100... Discriminator Loss: 1.1944... Generator Loss: 1.1940\n",
      "Std_diff: 3.22519 Mean_diff: 3.19598\n",
      "Epoch 85/100... Discriminator Loss: 1.1447... Generator Loss: 1.0742\n",
      "Std_diff: 3.08326 Mean_diff: 3.51571\n",
      "Epoch 86/100... Discriminator Loss: 1.1725... Generator Loss: 1.1623\n",
      "Std_diff: 3.42757 Mean_diff: 4.54818\n",
      "Epoch 87/100... Discriminator Loss: 1.1017... Generator Loss: 1.1354\n",
      "Std_diff: 3.53375 Mean_diff: 4.16659\n",
      "Epoch 88/100... Discriminator Loss: 1.1827... Generator Loss: 1.1143\n",
      "Std_diff: 2.87645 Mean_diff: 2.85512\n",
      "Epoch 89/100... Discriminator Loss: 1.2223... Generator Loss: 1.0767\n",
      "Std_diff: 3.22288 Mean_diff: 3.44852\n",
      "Epoch 90/100... Discriminator Loss: 1.2316... Generator Loss: 1.1376\n",
      "Std_diff: 3.32611 Mean_diff: 3.88627\n",
      "Epoch 91/100... Discriminator Loss: 1.2559... Generator Loss: 1.3071\n",
      "Std_diff: 2.74888 Mean_diff: 3.70496\n",
      "Epoch 92/100... Discriminator Loss: 1.0981... Generator Loss: 1.3330\n",
      "Std_diff: 3.1275 Mean_diff: 3.04541\n",
      "Epoch 93/100... Discriminator Loss: 1.0960... Generator Loss: 1.4148\n",
      "Std_diff: 2.94514 Mean_diff: 3.39509\n",
      "Epoch 94/100... Discriminator Loss: 1.1811... Generator Loss: 1.1749\n",
      "Std_diff: 3.22638 Mean_diff: 3.5362\n",
      "Epoch 95/100... Discriminator Loss: 1.1796... Generator Loss: 1.2239\n",
      "Std_diff: 2.76239 Mean_diff: 3.13805\n",
      "Epoch 96/100... Discriminator Loss: 1.2928... Generator Loss: 1.1455\n",
      "Std_diff: 2.48713 Mean_diff: 2.7556\n",
      "Epoch 97/100... Discriminator Loss: 1.2272... Generator Loss: 1.1252\n",
      "Std_diff: 3.12541 Mean_diff: 3.49248\n",
      "Epoch 98/100... Discriminator Loss: 1.2258... Generator Loss: 1.3772\n",
      "Std_diff: 3.00714 Mean_diff: 2.91188\n",
      "Epoch 99/100... Discriminator Loss: 1.1478... Generator Loss: 1.2593\n",
      "Std_diff: 2.96613 Mean_diff: 3.15377\n",
      "Epoch 100/100... Discriminator Loss: 1.1555... Generator Loss: 1.1030\n",
      "Std_diff: 2.41018 Mean_diff: 2.5158\n"
     ]
    }
   ],
   "source": [
    "batch_size = 100\n",
    "epochs = 100\n",
    "samples = []\n",
    "losses = []\n",
    "saver = tf.train.Saver(var_list=g_vars)\n",
    "with tf.Session() as sess:\n",
    "    sess.run(tf.global_variables_initializer())\n",
    "    for e in range(epochs):\n",
    "        for ii in range(mnist.train.num_examples//batch_size):\n",
    "            batch = mnist.train.next_batch(batch_size)\n",
    "            \n",
    "            batch_images = batch[0].reshape((batch_size, 784))\n",
    "            batch_images = batch_images*2 - 1\n",
    "            \n",
    "            batch_z = np.random.uniform(-1, 1, size=(batch_size, z_size))          \n",
    "            _ = sess.run(d_train_opt, feed_dict={input_real: batch_images, input_z: batch_z})\n",
    "            _ = sess.run(g_train_opt, feed_dict={input_real: batch_images, input_z: batch_z})\n",
    "        \n",
    "        train_loss_g = g_loss_.eval({input_z: batch_z, input_real: batch_images})\n",
    "        train_loss_d = sess.run(d_loss, {input_z: batch_z, input_real: batch_images})\n",
    "            \n",
    "        print(\"Epoch {}/{}...\".format(e+1, epochs),\n",
    "              \"Discriminator Loss: {:.4f}...\".format(train_loss_d),\n",
    "              \"Generator Loss: {:.4f}\".format(train_loss_g)) \n",
    "        std_diff1 = std_diff.eval(session=sess, feed_dict={input_real: batch_images, input_z: batch_z})\n",
    "        mean_diff1 = mean_diff.eval(session=sess, feed_dict={input_real: batch_images, input_z: batch_z})\n",
    "        print('Std_diff: ' +str(std_diff1) + ' Mean_diff: ' +str(mean_diff1))\n",
    "        losses.append((train_loss_d, train_loss_g))\n",
    "        sample_z = np.random.uniform(-1, 1, size=(16, z_size))\n",
    "        gen_samples, _ = sess.run(\n",
    "                       generator(input_z, input_size, reuse=True),\n",
    "                       feed_dict={input_z: sample_z})\n",
    "        samples.append(gen_samples)\n",
    "        saver.save(sess, './checkpoints/generator.ckpt')\n",
    "\n",
    "with open('train_samples.pkl', 'wb') as f:\n",
    "    pkl.dump(samples, f)"
   ]
  },
  {
   "cell_type": "code",
   "execution_count": 13,
   "metadata": {
    "collapsed": false,
    "deletable": true,
    "editable": true
   },
   "outputs": [
    {
     "data": {
      "text/plain": [
       "<matplotlib.legend.Legend at 0x132cc4f60>"
      ]
     },
     "execution_count": 13,
     "metadata": {},
     "output_type": "execute_result"
    },
    {
     "data": {
      "image/png": "[encoded data removed]",
      "text/plain": [
       "<matplotlib.figure.Figure at 0x1381f7518>"
      ]
     },
     "metadata": {},
     "output_type": "display_data"
    }
   ],
   "source": [
    "fig, ax = plt.subplots()\n",
    "losses = np.array(losses)\n",
    "plt.plot(losses.T[0], label='Discriminator')\n",
    "plt.plot(losses.T[1], label='Generator')\n",
    "plt.title(\"Training Losses\")\n",
    "plt.legend()"
   ]
  },
  {
   "cell_type": "code",
   "execution_count": 14,
   "metadata": {
    "collapsed": true,
    "deletable": true,
    "editable": true
   },
   "outputs": [],
   "source": [
    "# Load samples from generator taken while training\n",
    "with open('train_samples.pkl', 'rb') as f:\n",
    "    samples = pkl.load(f)"
   ]
  },
  {
   "cell_type": "code",
   "execution_count": 17,
   "metadata": {
    "collapsed": false,
    "deletable": true,
    "editable": true
   },
   "outputs": [
    {
     "data": {
      "image/png": "[encoded data removed]",
      "text/plain": [
       "<matplotlib.figure.Figure at 0x13098c8d0>"
      ]
     },
     "metadata": {},
     "output_type": "display_data"
    }
   ],
   "source": [
    "rows, cols = 10, 6\n",
    "fig, axes = plt.subplots(figsize=(7,12), nrows=rows, ncols=cols, sharex=True, sharey=True)\n",
    "\n",
    "for sample, ax_row in zip(samples[::int(len(samples)/rows)], axes):\n",
    "    for img, ax in zip(sample[::int(len(sample)/cols)], ax_row):\n",
    "        ax.imshow(img.reshape((28,28)), cmap='Greys_r')\n",
    "        ax.xaxis.set_visible(False)\n",
    "        ax.yaxis.set_visible(False)"
   ]
  },
  {
   "cell_type": "code",
   "execution_count": null,
   "metadata": {
    "collapsed": true,
    "deletable": true,
    "editable": true
   },
   "outputs": [],
   "source": []
  }
 ],
 "metadata": {
  "kernelspec": {
   "display_name": "Python 3",
   "language": "python",
   "name": "python3"
  },
  "language_info": {
   "codemirror_mode": {
    "name": "ipython",
    "version": 3
   },
   "file_extension": ".py",
   "mimetype": "text/x-python",
   "name": "python",
   "nbconvert_exporter": "python",
   "pygments_lexer": "ipython3",
   "version": "3.5.1"
  }
 },
 "nbformat": 4,
 "nbformat_minor": 2
}
