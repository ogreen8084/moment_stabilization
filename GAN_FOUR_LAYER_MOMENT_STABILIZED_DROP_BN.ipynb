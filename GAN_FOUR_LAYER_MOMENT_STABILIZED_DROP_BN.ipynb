{
 "cells": [
  {
   "cell_type": "markdown",
   "metadata": {
    "deletable": true,
    "editable": true
   },
   "source": [
    "This is a four hidden layer GAN with moment stabilization, dropout and batch normalization. It isbased off of the \"Intro to GANs\" Lesson from the Udacity Deep Learning Foundations Nanodegree: https://github.com/udacity/deep-learning/blob/master/gan_mnist/Intro_to_GANs_Solution.ipynb \n"
   ]
  },
  {
   "cell_type": "code",
   "execution_count": 1,
   "metadata": {
    "collapsed": true,
    "deletable": true,
    "editable": true
   },
   "outputs": [],
   "source": [
    "%matplotlib inline\n",
    "import pickle as pkl\n",
    "import numpy as np\n",
    "import tensorflow as tf\n",
    "import matplotlib.pyplot as plt"
   ]
  },
  {
   "cell_type": "code",
   "execution_count": 2,
   "metadata": {
    "collapsed": false,
    "deletable": true,
    "editable": true
   },
   "outputs": [
    {
     "name": "stdout",
     "output_type": "stream",
     "text": [
      "Extracting MNIST_data/train-images-idx3-ubyte.gz\n",
      "Extracting MNIST_data/train-labels-idx1-ubyte.gz\n",
      "Extracting MNIST_data/t10k-images-idx3-ubyte.gz\n",
      "Extracting MNIST_data/t10k-labels-idx1-ubyte.gz\n"
     ]
    }
   ],
   "source": [
    "from tensorflow.examples.tutorials.mnist import input_data\n",
    "mnist = input_data.read_data_sets('MNIST_data')"
   ]
  },
  {
   "cell_type": "code",
   "execution_count": 3,
   "metadata": {
    "collapsed": false,
    "deletable": true,
    "editable": true,
    "scrolled": false
   },
   "outputs": [],
   "source": [
    "def model_inputs(real_dim, z_dim):\n",
    "    inputs_real = tf.placeholder(tf.float32, (None, real_dim), name='input_real') \n",
    "    inputs_z = tf.placeholder(tf.float32, (None, z_dim), name='input_z')\n",
    "    \n",
    "    return inputs_real, inputs_z"
   ]
  },
  {
   "cell_type": "code",
   "execution_count": 4,
   "metadata": {
    "collapsed": false,
    "deletable": true,
    "editable": true
   },
   "outputs": [],
   "source": [
    "def generator(z, out_dim, n_units=128, reuse=False,  alpha=0.1, drop=0.8):\n",
    "    with tf.variable_scope('generator', reuse=reuse):\n",
    "        h1 = tf.layers.dense(z, n_units,kernel_initializer=tf.contrib.layers.xavier_initializer(),  activation=None) \n",
    "        h1 = tf.contrib.layers.batch_norm(h1)\n",
    "        h1 = tf.maximum(alpha*h1, h1)\n",
    "        h1 = tf.nn.dropout(h1, drop)\n",
    "        h2 = tf.layers.dense(h1, n_units * 2, kernel_initializer=tf.contrib.layers.xavier_initializer(), activation=None)\n",
    "        h2 = tf.contrib.layers.batch_norm(h2)\n",
    "        h2 = tf.maximum(alpha*h2, h2)\n",
    "        h3 = tf.layers.dense(h2, n_units * 3,kernel_initializer=tf.contrib.layers.xavier_initializer(), activation=None)\n",
    "        h3 = tf.contrib.layers.batch_norm(h3)\n",
    "        h3 = tf.maximum(alpha*h3, h3) \n",
    "        h4 = tf.layers.dense(h3, n_units * 4,kernel_initializer=tf.contrib.layers.xavier_initializer(), activation=None) \n",
    "        h4 = tf.contrib.layers.batch_norm(h4)\n",
    "        h4 = tf.maximum(alpha*h4, h4) \n",
    "        logits = tf.layers.dense(h3, out_dim, kernel_initializer=tf.contrib.layers.xavier_initializer(), activation=None)\n",
    "        out = tf.nn.tanh(logits)\n",
    "        \n",
    "        return out, logits"
   ]
  },
  {
   "cell_type": "code",
   "execution_count": 5,
   "metadata": {
    "collapsed": false,
    "deletable": true,
    "editable": true
   },
   "outputs": [],
   "source": [
    "def discriminator(x, n_units=128, reuse=False, alpha=0.01):\n",
    "    with tf.variable_scope('discriminator', reuse=reuse):\n",
    "        # Hidden layer\n",
    "        h1 = tf.layers.dense(x, n_units, activation=None)\n",
    "        # Leaky ReLU\n",
    "        h1 = tf.maximum(alpha * h1, h1)\n",
    "        logits = tf.layers.dense(h1, 1, activation=None)\n",
    "        out = tf.sigmoid(logits)\n",
    "        \n",
    "        return out, logits"
   ]
  },
  {
   "cell_type": "markdown",
   "metadata": {
    "deletable": true,
    "editable": true
   },
   "source": [
    "<h2>Hyperparameters</h2>"
   ]
  },
  {
   "cell_type": "code",
   "execution_count": 6,
   "metadata": {
    "collapsed": false,
    "deletable": true,
    "editable": true
   },
   "outputs": [],
   "source": [
    "input_size = 784\n",
    "z_size = 100\n",
    "alpha = 0.01\n",
    "smooth = 0.1"
   ]
  },
  {
   "cell_type": "code",
   "execution_count": 7,
   "metadata": {
    "collapsed": false,
    "deletable": true,
    "editable": true
   },
   "outputs": [],
   "source": [
    "tf.reset_default_graph()\n",
    "input_real, input_z = model_inputs(input_size, z_size)\n",
    "\n",
    "g_model, g_logits = generator(input_z, input_size)\n",
    "d_model_real, d_logits_real = discriminator(input_real)\n",
    "d_model_fake, d_logits_fake = discriminator(g_model, reuse=True)\n"
   ]
  },
  {
   "cell_type": "markdown",
   "metadata": {
    "deletable": true,
    "editable": true
   },
   "source": [
    "<h2>Moments</h2>\n",
    "We multiply the moments by 0.1 to keep them roughly in line with the original generator loss."
   ]
  },
  {
   "cell_type": "code",
   "execution_count": 8,
   "metadata": {
    "collapsed": false,
    "deletable": true,
    "editable": true
   },
   "outputs": [],
   "source": [
    "g_mean, g_var = tf.nn.moments(g_model, axes=[0])\n",
    "d_mean, d_var = tf.nn.moments(input_real, axes=[0])\n",
    "\n",
    "mean_diff = 0.1 * tf.reduce_sum(tf.abs(g_mean - d_mean))\n",
    "std_diff = 0.1 * tf.reduce_sum(tf.abs(g_var - d_var))"
   ]
  },
  {
   "cell_type": "markdown",
   "metadata": {
    "deletable": true,
    "editable": true
   },
   "source": [
    "<h2>Modified Loss Function</h2>"
   ]
  },
  {
   "cell_type": "code",
   "execution_count": 9,
   "metadata": {
    "collapsed": false,
    "deletable": true,
    "editable": true
   },
   "outputs": [],
   "source": [
    "d_loss_real = tf.reduce_mean(\n",
    "                  tf.nn.sigmoid_cross_entropy_with_logits(logits=d_logits_real, \n",
    "                                                          labels=tf.ones_like(d_logits_real) * (1 - smooth)))\n",
    "d_loss_fake = tf.reduce_mean(\n",
    "                  tf.nn.sigmoid_cross_entropy_with_logits(logits=d_logits_fake, \n",
    "                                                          labels=tf.zeros_like(d_logits_real)))\n",
    "d_loss = d_loss_real + d_loss_fake\n",
    "\n",
    "g_loss = tf.reduce_mean(\n",
    "             tf.nn.sigmoid_cross_entropy_with_logits(logits=d_logits_fake,\n",
    "                                                     labels=tf.ones_like(d_logits_fake))) + (std_diff + mean_diff)\n",
    "g_loss_ = g_loss - (std_diff + mean_diff) #for visualization purposes"
   ]
  },
  {
   "cell_type": "code",
   "execution_count": 10,
   "metadata": {
    "collapsed": false,
    "deletable": true,
    "editable": true,
    "scrolled": false
   },
   "outputs": [],
   "source": [
    "t_vars = tf.trainable_variables()\n",
    "g_vars = [var for var in t_vars if var.name.startswith('generator')]\n",
    "d_vars = [var for var in t_vars if var.name.startswith('discriminator')]\n",
    "\n",
    "d_train_opt = tf.train.AdamOptimizer().minimize(d_loss, var_list=d_vars)\n",
    "g_train_opt = tf.train.AdamOptimizer().minimize(g_loss, var_list=g_vars)"
   ]
  },
  {
   "cell_type": "code",
   "execution_count": 11,
   "metadata": {
    "collapsed": false,
    "deletable": true,
    "editable": true
   },
   "outputs": [
    {
     "name": "stdout",
     "output_type": "stream",
     "text": [
      "mkdir: checkpoints: File exists\r\n"
     ]
    }
   ],
   "source": [
    "!mkdir checkpoints"
   ]
  },
  {
   "cell_type": "code",
   "execution_count": 12,
   "metadata": {
    "collapsed": false,
    "deletable": true,
    "editable": true,
    "scrolled": false
   },
   "outputs": [
    {
     "name": "stdout",
     "output_type": "stream",
     "text": [
      "Epoch 1/100... Discriminator Loss: 0.6032... Generator Loss: 2.0117\n",
      "Std_diff: 5.8592 Mean_diff: 7.87452\n",
      "Epoch 2/100... Discriminator Loss: 0.6684... Generator Loss: 2.6471\n",
      "Std_diff: 2.82344 Mean_diff: 3.25841\n",
      "Epoch 3/100... Discriminator Loss: 0.7215... Generator Loss: 2.2803\n",
      "Std_diff: 2.5364 Mean_diff: 2.71531\n",
      "Epoch 4/100... Discriminator Loss: 0.8319... Generator Loss: 1.6447\n",
      "Std_diff: 2.75772 Mean_diff: 3.41372\n",
      "Epoch 5/100... Discriminator Loss: 1.0363... Generator Loss: 1.4641\n",
      "Std_diff: 2.68853 Mean_diff: 2.94806\n",
      "Epoch 6/100... Discriminator Loss: 0.9497... Generator Loss: 1.4342\n",
      "Std_diff: 3.17734 Mean_diff: 3.08436\n",
      "Epoch 7/100... Discriminator Loss: 1.0207... Generator Loss: 1.6133\n",
      "Std_diff: 2.51463 Mean_diff: 2.77902\n",
      "Epoch 8/100... Discriminator Loss: 0.9689... Generator Loss: 1.5719\n",
      "Std_diff: 2.45012 Mean_diff: 2.68526\n",
      "Epoch 9/100... Discriminator Loss: 0.9020... Generator Loss: 1.7036\n",
      "Std_diff: 2.74715 Mean_diff: 2.68164\n",
      "Epoch 10/100... Discriminator Loss: 1.0876... Generator Loss: 1.4066\n",
      "Std_diff: 2.86003 Mean_diff: 2.99812\n",
      "Epoch 11/100... Discriminator Loss: 1.1091... Generator Loss: 1.5793\n",
      "Std_diff: 3.01292 Mean_diff: 3.16977\n",
      "Epoch 12/100... Discriminator Loss: 1.0042... Generator Loss: 1.3611\n",
      "Std_diff: 3.02062 Mean_diff: 2.67585\n",
      "Epoch 13/100... Discriminator Loss: 1.0080... Generator Loss: 1.7907\n",
      "Std_diff: 2.8744 Mean_diff: 3.18238\n",
      "Epoch 14/100... Discriminator Loss: 0.9405... Generator Loss: 1.7091\n",
      "Std_diff: 3.09414 Mean_diff: 3.6294\n",
      "Epoch 15/100... Discriminator Loss: 1.0030... Generator Loss: 1.5454\n",
      "Std_diff: 2.63577 Mean_diff: 2.59336\n",
      "Epoch 16/100... Discriminator Loss: 1.0813... Generator Loss: 1.3674\n",
      "Std_diff: 2.74719 Mean_diff: 2.93788\n",
      "Epoch 17/100... Discriminator Loss: 1.1016... Generator Loss: 1.4604\n",
      "Std_diff: 2.61622 Mean_diff: 2.55675\n",
      "Epoch 18/100... Discriminator Loss: 1.0843... Generator Loss: 1.2525\n",
      "Std_diff: 2.88997 Mean_diff: 3.0462\n",
      "Epoch 19/100... Discriminator Loss: 1.0200... Generator Loss: 1.3085\n",
      "Std_diff: 2.78154 Mean_diff: 2.87082\n",
      "Epoch 20/100... Discriminator Loss: 1.2095... Generator Loss: 1.3841\n",
      "Std_diff: 2.43146 Mean_diff: 2.46076\n",
      "Epoch 21/100... Discriminator Loss: 1.0559... Generator Loss: 1.6015\n",
      "Std_diff: 2.60428 Mean_diff: 2.53358\n",
      "Epoch 22/100... Discriminator Loss: 1.2310... Generator Loss: 1.4946\n",
      "Std_diff: 2.654 Mean_diff: 2.9924\n",
      "Epoch 23/100... Discriminator Loss: 1.1686... Generator Loss: 1.1679\n",
      "Std_diff: 3.02044 Mean_diff: 3.16398\n",
      "Epoch 24/100... Discriminator Loss: 1.0803... Generator Loss: 1.3271\n",
      "Std_diff: 2.79115 Mean_diff: 3.34744\n",
      "Epoch 25/100... Discriminator Loss: 1.2772... Generator Loss: 1.1694\n",
      "Std_diff: 2.82111 Mean_diff: 2.95609\n",
      "Epoch 26/100... Discriminator Loss: 1.1267... Generator Loss: 1.5365\n",
      "Std_diff: 2.63469 Mean_diff: 2.5945\n",
      "Epoch 27/100... Discriminator Loss: 1.1120... Generator Loss: 1.2315\n",
      "Std_diff: 2.77819 Mean_diff: 2.73218\n",
      "Epoch 28/100... Discriminator Loss: 1.0797... Generator Loss: 1.4304\n",
      "Std_diff: 2.56462 Mean_diff: 2.83017\n",
      "Epoch 29/100... Discriminator Loss: 1.0716... Generator Loss: 1.4129\n",
      "Std_diff: 2.55711 Mean_diff: 2.38438\n",
      "Epoch 30/100... Discriminator Loss: 1.2101... Generator Loss: 1.2948\n",
      "Std_diff: 2.72297 Mean_diff: 2.78048\n",
      "Epoch 31/100... Discriminator Loss: 1.1222... Generator Loss: 1.1258\n",
      "Std_diff: 2.64081 Mean_diff: 2.68485\n",
      "Epoch 32/100... Discriminator Loss: 1.2060... Generator Loss: 1.2515\n",
      "Std_diff: 2.69194 Mean_diff: 2.81798\n",
      "Epoch 33/100... Discriminator Loss: 1.1731... Generator Loss: 1.1346\n",
      "Std_diff: 2.8139 Mean_diff: 2.96529\n",
      "Epoch 34/100... Discriminator Loss: 1.2206... Generator Loss: 1.0935\n",
      "Std_diff: 2.88636 Mean_diff: 2.87222\n",
      "Epoch 35/100... Discriminator Loss: 1.1472... Generator Loss: 1.1650\n",
      "Std_diff: 2.72283 Mean_diff: 2.65801\n",
      "Epoch 36/100... Discriminator Loss: 1.1890... Generator Loss: 1.1517\n",
      "Std_diff: 2.67239 Mean_diff: 2.65946\n",
      "Epoch 37/100... Discriminator Loss: 1.2241... Generator Loss: 1.3183\n",
      "Std_diff: 2.34814 Mean_diff: 2.52095\n",
      "Epoch 38/100... Discriminator Loss: 1.2507... Generator Loss: 1.1873\n",
      "Std_diff: 2.69392 Mean_diff: 3.02054\n",
      "Epoch 39/100... Discriminator Loss: 1.2222... Generator Loss: 1.1803\n",
      "Std_diff: 2.48952 Mean_diff: 2.23709\n",
      "Epoch 40/100... Discriminator Loss: 1.2396... Generator Loss: 1.0228\n",
      "Std_diff: 3.27379 Mean_diff: 3.57408\n",
      "Epoch 41/100... Discriminator Loss: 1.2568... Generator Loss: 1.1739\n",
      "Std_diff: 2.61119 Mean_diff: 2.82282\n",
      "Epoch 42/100... Discriminator Loss: 1.1219... Generator Loss: 0.9834\n",
      "Std_diff: 2.69987 Mean_diff: 2.98149\n",
      "Epoch 43/100... Discriminator Loss: 1.2173... Generator Loss: 0.9747\n",
      "Std_diff: 2.47117 Mean_diff: 2.6234\n",
      "Epoch 44/100... Discriminator Loss: 1.1701... Generator Loss: 1.2712\n",
      "Std_diff: 2.55677 Mean_diff: 2.75369\n",
      "Epoch 45/100... Discriminator Loss: 1.2100... Generator Loss: 1.2613\n",
      "Std_diff: 2.53754 Mean_diff: 2.73665\n",
      "Epoch 46/100... Discriminator Loss: 1.1790... Generator Loss: 1.4013\n",
      "Std_diff: 2.66433 Mean_diff: 2.76231\n",
      "Epoch 47/100... Discriminator Loss: 1.1677... Generator Loss: 1.2375\n",
      "Std_diff: 3.00125 Mean_diff: 3.37355\n",
      "Epoch 48/100... Discriminator Loss: 1.1440... Generator Loss: 1.1234\n",
      "Std_diff: 2.8101 Mean_diff: 3.07176\n",
      "Epoch 49/100... Discriminator Loss: 1.1797... Generator Loss: 1.2598\n",
      "Std_diff: 2.81057 Mean_diff: 2.99091\n",
      "Epoch 50/100... Discriminator Loss: 1.2608... Generator Loss: 1.1337\n",
      "Std_diff: 2.458 Mean_diff: 2.56796\n",
      "Epoch 51/100... Discriminator Loss: 1.1400... Generator Loss: 1.1750\n",
      "Std_diff: 2.6358 Mean_diff: 2.5175\n",
      "Epoch 52/100... Discriminator Loss: 1.2274... Generator Loss: 0.9909\n",
      "Std_diff: 2.64684 Mean_diff: 2.78838\n",
      "Epoch 53/100... Discriminator Loss: 1.1100... Generator Loss: 1.1773\n",
      "Std_diff: 2.77614 Mean_diff: 2.78083\n",
      "Epoch 54/100... Discriminator Loss: 1.2314... Generator Loss: 1.2525\n",
      "Std_diff: 2.63745 Mean_diff: 2.70814\n",
      "Epoch 55/100... Discriminator Loss: 1.1568... Generator Loss: 1.2154\n",
      "Std_diff: 2.96207 Mean_diff: 3.07547\n",
      "Epoch 56/100... Discriminator Loss: 1.2268... Generator Loss: 1.0930\n",
      "Std_diff: 2.68376 Mean_diff: 2.5222\n",
      "Epoch 57/100... Discriminator Loss: 1.1763... Generator Loss: 1.0297\n",
      "Std_diff: 2.3199 Mean_diff: 2.76109\n",
      "Epoch 58/100... Discriminator Loss: 1.1077... Generator Loss: 1.1778\n",
      "Std_diff: 3.28956 Mean_diff: 2.90849\n",
      "Epoch 59/100... Discriminator Loss: 1.1732... Generator Loss: 1.0250\n",
      "Std_diff: 2.71015 Mean_diff: 2.90958\n",
      "Epoch 60/100... Discriminator Loss: 1.2118... Generator Loss: 1.0884\n",
      "Std_diff: 2.55702 Mean_diff: 2.7403\n",
      "Epoch 61/100... Discriminator Loss: 1.2249... Generator Loss: 1.2073\n",
      "Std_diff: 2.64462 Mean_diff: 3.08391\n",
      "Epoch 62/100... Discriminator Loss: 1.1854... Generator Loss: 1.2073\n",
      "Std_diff: 2.53491 Mean_diff: 2.82071\n",
      "Epoch 63/100... Discriminator Loss: 1.2937... Generator Loss: 1.2389\n",
      "Std_diff: 2.97719 Mean_diff: 3.05633\n",
      "Epoch 64/100... Discriminator Loss: 1.2419... Generator Loss: 1.0210\n",
      "Std_diff: 2.71631 Mean_diff: 2.55822\n",
      "Epoch 65/100... Discriminator Loss: 1.2849... Generator Loss: 1.2209\n",
      "Std_diff: 2.69846 Mean_diff: 2.87367\n",
      "Epoch 66/100... Discriminator Loss: 1.2016... Generator Loss: 1.1364\n",
      "Std_diff: 2.55347 Mean_diff: 3.01742\n",
      "Epoch 67/100... Discriminator Loss: 1.1382... Generator Loss: 1.1821\n",
      "Std_diff: 2.76116 Mean_diff: 2.86173\n",
      "Epoch 68/100... Discriminator Loss: 1.1618... Generator Loss: 1.1687\n",
      "Std_diff: 2.87924 Mean_diff: 3.20541\n",
      "Epoch 69/100... Discriminator Loss: 1.2302... Generator Loss: 1.2667\n",
      "Std_diff: 2.7973 Mean_diff: 3.0886\n",
      "Epoch 70/100... Discriminator Loss: 1.2103... Generator Loss: 1.0829\n",
      "Std_diff: 2.45531 Mean_diff: 2.76073\n",
      "Epoch 71/100... Discriminator Loss: 1.2664... Generator Loss: 1.1085\n",
      "Std_diff: 2.54588 Mean_diff: 2.68834\n",
      "Epoch 72/100... Discriminator Loss: 1.0986... Generator Loss: 1.1067\n",
      "Std_diff: 2.52505 Mean_diff: 2.84053\n",
      "Epoch 73/100... Discriminator Loss: 1.2295... Generator Loss: 1.0950\n",
      "Std_diff: 3.41273 Mean_diff: 3.67891\n",
      "Epoch 74/100... Discriminator Loss: 1.2034... Generator Loss: 1.0530\n",
      "Std_diff: 2.49388 Mean_diff: 2.49062\n",
      "Epoch 75/100... Discriminator Loss: 1.2231... Generator Loss: 1.1550\n",
      "Std_diff: 2.78075 Mean_diff: 3.34641\n",
      "Epoch 76/100... Discriminator Loss: 1.1812... Generator Loss: 1.0901\n",
      "Std_diff: 2.69645 Mean_diff: 2.80938\n",
      "Epoch 77/100... Discriminator Loss: 1.1654... Generator Loss: 1.0626\n",
      "Std_diff: 2.54611 Mean_diff: 2.48263\n",
      "Epoch 78/100... Discriminator Loss: 1.2427... Generator Loss: 1.0001\n",
      "Std_diff: 2.8596 Mean_diff: 3.02119\n",
      "Epoch 79/100... Discriminator Loss: 1.2097... Generator Loss: 0.9119\n",
      "Std_diff: 2.97451 Mean_diff: 3.34985\n",
      "Epoch 80/100... Discriminator Loss: 1.2165... Generator Loss: 1.0810\n",
      "Std_diff: 2.769 Mean_diff: 2.77166\n",
      "Epoch 81/100... Discriminator Loss: 1.2435... Generator Loss: 1.1739\n",
      "Std_diff: 2.51764 Mean_diff: 2.89242\n",
      "Epoch 82/100... Discriminator Loss: 1.2150... Generator Loss: 1.1080\n",
      "Std_diff: 2.32027 Mean_diff: 2.37809\n",
      "Epoch 83/100... Discriminator Loss: 1.2298... Generator Loss: 1.1363\n",
      "Std_diff: 3.07437 Mean_diff: 2.97334\n",
      "Epoch 84/100... Discriminator Loss: 1.2739... Generator Loss: 1.0896\n",
      "Std_diff: 2.65704 Mean_diff: 2.42667\n",
      "Epoch 85/100... Discriminator Loss: 1.2428... Generator Loss: 1.0558\n",
      "Std_diff: 2.68781 Mean_diff: 2.79646\n",
      "Epoch 86/100... Discriminator Loss: 1.2229... Generator Loss: 0.9495\n",
      "Std_diff: 2.70677 Mean_diff: 2.71467\n",
      "Epoch 87/100... Discriminator Loss: 1.2517... Generator Loss: 1.1824\n",
      "Std_diff: 2.61268 Mean_diff: 2.43997\n",
      "Epoch 88/100... Discriminator Loss: 1.1770... Generator Loss: 1.1339\n",
      "Std_diff: 2.78655 Mean_diff: 3.20741\n",
      "Epoch 89/100... Discriminator Loss: 1.2350... Generator Loss: 1.1404\n",
      "Std_diff: 2.68143 Mean_diff: 2.63564\n",
      "Epoch 90/100... Discriminator Loss: 1.1602... Generator Loss: 1.1907\n",
      "Std_diff: 2.87738 Mean_diff: 2.84191\n",
      "Epoch 91/100... Discriminator Loss: 1.2790... Generator Loss: 1.1592\n",
      "Std_diff: 3.00299 Mean_diff: 3.64052\n",
      "Epoch 92/100... Discriminator Loss: 1.1867... Generator Loss: 1.0304\n",
      "Std_diff: 3.08926 Mean_diff: 3.35437\n",
      "Epoch 93/100... Discriminator Loss: 1.2642... Generator Loss: 1.1246\n",
      "Std_diff: 2.51151 Mean_diff: 3.10794\n",
      "Epoch 94/100... Discriminator Loss: 1.1470... Generator Loss: 1.1297\n",
      "Std_diff: 2.42533 Mean_diff: 2.23394\n",
      "Epoch 95/100... Discriminator Loss: 1.2213... Generator Loss: 1.1079\n",
      "Std_diff: 2.50517 Mean_diff: 2.39481\n",
      "Epoch 96/100... Discriminator Loss: 1.1797... Generator Loss: 1.1630\n",
      "Std_diff: 2.40976 Mean_diff: 2.33789\n",
      "Epoch 97/100... Discriminator Loss: 1.2112... Generator Loss: 1.0200\n",
      "Std_diff: 2.56172 Mean_diff: 2.42908\n",
      "Epoch 98/100... Discriminator Loss: 1.1968... Generator Loss: 1.1792\n",
      "Std_diff: 2.69802 Mean_diff: 2.9239\n",
      "Epoch 99/100... Discriminator Loss: 1.2148... Generator Loss: 1.1293\n",
      "Std_diff: 2.74328 Mean_diff: 2.73175\n",
      "Epoch 100/100... Discriminator Loss: 1.2147... Generator Loss: 1.2009\n",
      "Std_diff: 2.74053 Mean_diff: 2.6725\n"
     ]
    }
   ],
   "source": [
    "batch_size = 100\n",
    "epochs = 100\n",
    "samples = []\n",
    "losses = []\n",
    "saver = tf.train.Saver(var_list=g_vars)\n",
    "with tf.Session() as sess:\n",
    "    sess.run(tf.global_variables_initializer())\n",
    "    for e in range(epochs):\n",
    "        for ii in range(mnist.train.num_examples//batch_size):\n",
    "            batch = mnist.train.next_batch(batch_size)\n",
    "            \n",
    "            batch_images = batch[0].reshape((batch_size, 784))\n",
    "            batch_images = batch_images*2 - 1\n",
    "            \n",
    "            batch_z = np.random.uniform(-1, 1, size=(batch_size, z_size))          \n",
    "            _ = sess.run(d_train_opt, feed_dict={input_real: batch_images, input_z: batch_z})\n",
    "            _ = sess.run(g_train_opt, feed_dict={input_real: batch_images, input_z: batch_z})\n",
    "        \n",
    "        train_loss_g = g_loss_.eval({input_z: batch_z, input_real: batch_images})\n",
    "        train_loss_d = sess.run(d_loss, {input_z: batch_z, input_real: batch_images})\n",
    "            \n",
    "        print(\"Epoch {}/{}...\".format(e+1, epochs),\n",
    "              \"Discriminator Loss: {:.4f}...\".format(train_loss_d),\n",
    "              \"Generator Loss: {:.4f}\".format(train_loss_g)) \n",
    "        std_diff1 = std_diff.eval(session=sess, feed_dict={input_real: batch_images, input_z: batch_z})\n",
    "        mean_diff1 = mean_diff.eval(session=sess, feed_dict={input_real: batch_images, input_z: batch_z})\n",
    "        print('Std_diff: ' +str(std_diff1) + ' Mean_diff: ' +str(mean_diff1))\n",
    "        losses.append((train_loss_d, train_loss_g))\n",
    "        sample_z = np.random.uniform(-1, 1, size=(16, z_size))\n",
    "        gen_samples, _ = sess.run(\n",
    "                       generator(input_z, input_size, drop=1.0, reuse=True),\n",
    "                       feed_dict={input_z: sample_z})\n",
    "        samples.append(gen_samples)\n",
    "        saver.save(sess, './checkpoints/generator.ckpt')\n",
    "\n",
    "with open('train_samples.pkl', 'wb') as f:\n",
    "    pkl.dump(samples, f)"
   ]
  },
  {
   "cell_type": "code",
   "execution_count": 13,
   "metadata": {
    "collapsed": false,
    "deletable": true,
    "editable": true
   },
   "outputs": [
    {
     "data": {
      "text/plain": [
       "<matplotlib.legend.Legend at 0x14f229f98>"
      ]
     },
     "execution_count": 13,
     "metadata": {},
     "output_type": "execute_result"
    },
    {
     "data": {
      "image/png": "[encoded data removed]",
      "text/plain": [
       "<matplotlib.figure.Figure at 0x139bbf908>"
      ]
     },
     "metadata": {},
     "output_type": "display_data"
    }
   ],
   "source": [
    "fig, ax = plt.subplots()\n",
    "losses = np.array(losses)\n",
    "plt.plot(losses.T[0], label='Discriminator')\n",
    "plt.plot(losses.T[1], label='Generator')\n",
    "plt.title(\"Training Losses\")\n",
    "plt.legend()"
   ]
  },
  {
   "cell_type": "code",
   "execution_count": 14,
   "metadata": {
    "collapsed": true,
    "deletable": true,
    "editable": true
   },
   "outputs": [],
   "source": [
    "# Load samples from generator taken while training\n",
    "with open('train_samples.pkl', 'rb') as f:\n",
    "    samples = pkl.load(f)"
   ]
  },
  {
   "cell_type": "code",
   "execution_count": 17,
   "metadata": {
    "collapsed": false,
    "deletable": true,
    "editable": true,
    "scrolled": true
   },
   "outputs": [
    {
     "data": {
      "image/png": "[encoded data removed]",
      "text/plain": [
       "<matplotlib.figure.Figure at 0x14f33b390>"
      ]
     },
     "metadata": {},
     "output_type": "display_data"
    }
   ],
   "source": [
    "rows, cols = 10, 6\n",
    "fig, axes = plt.subplots(figsize=(7,12), nrows=rows, ncols=cols, sharex=True, sharey=True)\n",
    "\n",
    "for sample, ax_row in zip(samples[::int(len(samples)/rows)], axes):\n",
    "    for img, ax in zip(sample[::int(len(sample)/cols)], ax_row):\n",
    "        ax.imshow(img.reshape((28,28)), cmap='Greys_r')\n",
    "        ax.xaxis.set_visible(False)\n",
    "        ax.yaxis.set_visible(False)"
   ]
  },
  {
   "cell_type": "code",
   "execution_count": null,
   "metadata": {
    "collapsed": true,
    "deletable": true,
    "editable": true
   },
   "outputs": [],
   "source": []
  }
 ],
 "metadata": {
  "kernelspec": {
   "display_name": "Python 3",
   "language": "python",
   "name": "python3"
  },
  "language_info": {
   "codemirror_mode": {
    "name": "ipython",
    "version": 3
   },
   "file_extension": ".py",
   "mimetype": "text/x-python",
   "name": "python",
   "nbconvert_exporter": "python",
   "pygments_lexer": "ipython3",
   "version": "3.5.1"
  }
 },
 "nbformat": 4,
 "nbformat_minor": 2
}
